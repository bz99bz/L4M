{
 "cells": [
  {
   "cell_type": "code",
   "execution_count": null,
   "metadata": {},
   "outputs": [
    {
     "name": "stdout",
     "output_type": "stream",
     "text": [
      "qm9_gpt_2827.csv\n",
      "32\n",
      "['C1C2OC2C2=C1C=NO2', 'C1C2OC2C2=C1N=NN2', 'C1C2OC2C2=C1N=NO2', 'C1C2OC2C2=C1NN=C2', 'C1C2OC2C2=C1NN=N2', 'C1C2OC2C2=C1ON=C2', 'C1C2OC2C2=C1ON=N2', 'C1C2OC2C2=CC=NN12', 'C1C2OC2C2=CN=NN12', 'C1C2OC2C2=CNN=C12', 'C1C2OC2C2=CON=C12', 'C1C2OC2C2=NC=NN12', 'C1C2OC2C2=NNC=C12', 'C1C2OC2C2=NNN=C12', 'C1C2OC2C2=NOC=C12', 'C1C2OC2C2=NON=C12', 'C1C2OC3=C(C=NN3)C12', 'C1C2OC3=C(C=NO3)C12', 'C1C2OC3=C(N=NN3)C12', 'C1C2OC3=C(N=NO3)C12', 'C1C2OC3=C(NN=C3)C12', 'C1C2OC3=C(NN=N3)C12', 'C1C2OC3=C(ON=C3)C12', 'C1C2OC3=C(ON=N3)C12', 'C1C2OC3=CC=NN3C12', 'C1C2OC3=CN=NN3C12', 'C1C2OC3=CNN=C3C12', 'C1C2OC3=CON=C3C12', 'C1C2OC3=NC=NN3C12', 'C1C2OC3=NNC=C3C12', 'C1C2OC3=NNN=C3C12', 'C1C2OC3=NOC=C3C12']\n",
      "'C1C2OC2C2=C1C=NO2','C1C2OC2C2=C1N=NN2','C1C2OC2C2=C1N=NO2','C1C2OC2C2=C1NN=C2','C1C2OC2C2=C1NN=N2','C1C2OC2C2=C1ON=C2','C1C2OC2C2=C1ON=N2','C1C2OC2C2=CC=NN12','C1C2OC2C2=CN=NN12','C1C2OC2C2=CNN=C12','C1C2OC2C2=CON=C12','C1C2OC2C2=NC=NN12','C1C2OC2C2=NNC=C12','C1C2OC2C2=NNN=C12','C1C2OC2C2=NOC=C12','C1C2OC2C2=NON=C12','C1C2OC3=C(C=NN3)C12','C1C2OC3=C(C=NO3)C12','C1C2OC3=C(N=NN3)C12','C1C2OC3=C(N=NO3)C12','C1C2OC3=C(NN=C3)C12','C1C2OC3=C(NN=N3)C12','C1C2OC3=C(ON=C3)C12','C1C2OC3=C(ON=N3)C12','C1C2OC3=CC=NN3C12','C1C2OC3=CN=NN3C12','C1C2OC3=CNN=C3C12','C1C2OC3=CON=C3C12','C1C2OC3=NC=NN3C12','C1C2OC3=NNC=C3C12','C1C2OC3=NNN=C3C12','C1C2OC3=NOC=C3C12'\n"
     ]
    }
   ],
   "source": [
    "import pandas as pd\n",
    "\n",
    "csv_file = 'your_csv_file.csv'\n",
    "# Uncomment and modify the following line if the CSV filename needs to include an index or dynamic suffix\n",
    "# csv_file = csv_file + str(i) + \".csv\"\n",
    "\n",
    "print(csv_file)  # Print the CSV file name\n",
    "df = pd.read_csv(csv_file)  # Read the CSV file into a DataFrame\n",
    "\n",
    "# Extract the values from the \"smiles\" column and convert them to a list\n",
    "cid_list = df['smiles'].tolist()\n",
    "\n",
    "print(len(cid_list))  # Print the length of the SMILES list\n",
    "print(cid_list)  # Print the list of SMILES strings\n",
    "\n",
    "# Add single quotes around each value in the list\n",
    "cid_list = [f\"'{value}'\" for value in cid_list]\n",
    "\n",
    "# Join the list into a single string, separated by commas\n",
    "str_cid = ','.join(cid_list)\n",
    "print(str_cid)  # Print the resulting string\n"
   ]
  },
  {
   "cell_type": "code",
   "execution_count": null,
   "metadata": {},
   "outputs": [],
   "source": [
    "from openai import OpenAI\n",
    "import pandas as pd\n",
    "import unicodedata\n",
    "import csv\n",
    "\n",
    "# Initialize the OpenAI client with API key and base URL\n",
    "client = OpenAI(\n",
    "    api_key=\"your_api_key\"\n",
    ")\n",
    "\n",
    "# Create a chat completion request to OpenAI\n",
    "completion = client.chat.completions.create(\n",
    "    messages=[\n",
    "        {\"role\": \"system\", \"content\": \"You are an expert chemist with a comprehensive understanding of molecular structures and chemistry. Using your extensive knowledge, please provide a detailed description of the molecule represented by the following SMILES string. Focus on its structural features, potential chemical properties, and any known applications or reactions it may participate in. Use only the information that can be inferred from the SMILES representation; do not create or infer any hypothetical or novel names for the molecule.\"},\n",
    "        {\"role\": \"user\", \"content\": \"The description of each molecule should be limited to a short sentence: \\n\\ \" + str_cid + \"\\n\\ ###Output format:SMILES,\\\"The molecule is…\\\" \\n\\###\"}\n",
    "    ],\n",
    "    model=\"gpt-3.5-turbo-16k\",\n",
    ")\n",
    "\n",
    "# Extract and normalize the response content\n",
    "message = completion.choices[0].message\n",
    "content = unicodedata.normalize('NFKC', message.content)\n",
    "# print(content)\n",
    "\n",
    "# Extract the description from the OpenAI response\n",
    "description = content\n",
    "\n",
    "# Write the description to a CSV file\n",
    "out_file = 'output_file.csv'  # Output file name\n",
    "with open(out_file, 'w', newline='') as file:\n",
    "    writer = csv.writer(file)\n",
    "    writer.writerow(['Description'])  # Write the column name\n",
    "    writer.writerow([description])   # Write the description content"
   ]
  }
 ],
 "metadata": {
  "kernelspec": {
   "display_name": "Python 3",
   "language": "python",
   "name": "python3"
  },
  "language_info": {
   "codemirror_mode": {
    "name": "ipython",
    "version": 3
   },
   "file_extension": ".py",
   "mimetype": "text/x-python",
   "name": "python",
   "nbconvert_exporter": "python",
   "pygments_lexer": "ipython3",
   "version": "3.10.6"
  }
 },
 "nbformat": 4,
 "nbformat_minor": 2
}
