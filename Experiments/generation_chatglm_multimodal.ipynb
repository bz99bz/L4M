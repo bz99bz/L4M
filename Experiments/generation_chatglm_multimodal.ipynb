{
 "cells": [
  {
   "cell_type": "code",
   "execution_count": 1,
   "metadata": {},
   "outputs": [
    {
     "name": "stdout",
     "output_type": "stream",
     "text": [
      "data/moses_multimodal_enhance.csv\n",
      "940186\n"
     ]
    }
   ],
   "source": [
    "\n",
    "import pandas as pd\n",
    "csv_file = 'data/moses_multimodal_enhance.csv'\n",
    "# csv_file=csv_file+str(n)+'.csv'\n",
    "#   csv_file=csv_file+str(i)+\".csv\"\n",
    "print(csv_file)\n",
    "df = pd.read_csv(csv_file)\n",
    "\n",
    "# 获取 \"CID\" 列的值并转换为列表\n",
    "smiles_list = df['all_smiles'].tolist()\n",
    "des_list    = df['Description'].tolist()\n",
    "pos_list    = df['pos'].tolist()\n",
    "print(len(smiles_list))\n",
    "smiles_list = [f\"'{value}'\" for value in smiles_list]\n",
    "des_list    = [f\"'{value[16:200]}'\" for value in des_list]\n",
    "pos_list    = [f\"'{value}'\" for value in pos_list]\n"
   ]
  },
  {
   "cell_type": "code",
   "execution_count": null,
   "metadata": {},
   "outputs": [
    {
     "name": "stdout",
     "output_type": "stream",
     "text": [
      "[819268, 31751, 189108, 824104, 350799, 347339, 202625, 146964, 404938, 756733]\n",
      "819268\n",
      "31751\n",
      "189108\n",
      "824104\n",
      "350799\n",
      "347339\n",
      "202625\n",
      "146964\n",
      "404938\n",
      "756733\n",
      "1.SMILES:'CC(C)N(CC(N)=O)C(=O)C1(c2ccc(Cl)cc2)CC1',DES:'a compound containing an amide and a tertiary amine, with a chlorobenzene group attached to the cycloalkane.',pos:'nan';2.SMILES:'COC(=O)c1sc(NC(=O)c2cccs2)c(C(=O)OC)c1C',DES:'mpound_name is 3-Methyl-5-[(thiophene-2-carbonyl)amino]thiophene-2,4-dicarboxylic acid, dimethyl ester,cid_paras is 896663,Molecular_Weight is 339.4,XLogP3 is 3.7,Hydrogen_Bond_Donor_C',pos:'0.0 0.0 -9.09090909090809e-06';3.SMILES:'Nc1ccc(Cl)c(C(=O)NC2CCCCC2)c1',DES:'compound_name is 5-amino-2-chloro-N-cyclohexylbenzamide,cid_paras is 16641286,Molecular_Weight is 252.74,XLogP3 is 3.0,Hydrogen_Bond_Donor_Count is 2,Hydrogen_Bond_Acceptor_Count is 2,',pos:'-5.882352941215007e-06 1.176470588235491e-05 5.882352941162762e-06';4.SMILES:'COCCOc1ccccc1NCc1cc(C)on1',DES:'compound_name is 2-(2-methoxyethoxy)-N-[(5-methyl-1,2-oxazol-3-yl)methyl]aniline,cid_paras is 52758381,Molecular_Weight is 262.3,XLogP3 is 2.1,Hydrogen_Bond_Donor_Count is 1,Hydrogen_B',pos:'1.0526315789472526e-05 5.2631578947245755e-06 -1.0526315789490054e-05';5.SMILES:'CCCN(CCC)C(=O)c1ccc(OC)c(N)c1',DES:'compound_name is 3-amino-4-methoxy-N,N-dipropylbenzamide,cid_paras is 16771347,Molecular_Weight is 250.34,XLogP3 is 2.5,Hydrogen_Bond_Donor_Count is 1,Hydrogen_Bond_Acceptor_Count is 3',pos:'-5.555555555443921e-06 5.555555555554943e-06 -1.2335811384723961e-17';6.SMILES:'COCCNC(=O)C1(C)CCC(=O)N1Cc1cccc(F)c1',DES:'compound_name is 1-[(3-fluorophenyl)methyl]-N-(2-methoxyethyl)-2-methyl-5-oxopyrrolidine-2-carboxamide,cid_paras is 46363720,Molecular_Weight is 308.35,XLogP3 is 0.8,Hydrogen_Bond_Dono',pos:'-4.545454545363208e-06 9.090909090827346e-06 4.545454545470446e-06';7.SMILES:'CCCC(C)NC(=O)NCc1ccc(OC)cc1',DES:'compound_name is 1-[(4-Methoxyphenyl)methyl]-3-pentan-2-ylurea,cid_paras is 42928414,Molecular_Weight is 250.34,XLogP3 is 2.5,Hydrogen_Bond_Donor_Count is 2,Hydrogen_Bond_Acceptor_Coun',pos:'-5.555555555591951e-06 -5.555555555579615e-06 -1.1111111111109887e-05';8.SMILES:'Cc1noc(C)c1COC(=O)c1cc2c(s1)CCCC2',DES:'ompound_name is (3,5-Dimethyl-1,2-oxazol-4-yl)methyl 4,5,6,7-tetrahydro-1-benzothiophene-2-carboxylate,cid_paras is 4828801,Molecular_Weight is 291.4,XLogP3 is 3.8,Hydrogen_Bond_Donor_',pos:'-4.999999999988347e-06 4.999999999993898e-06 -4.999999999988347e-06';9.SMILES:'O=C1COc2cc(C(=O)N(Cc3ccco3)C3CC3)ccc2N1',DES:'compound_name is N-cyclopropyl-N-(furan-2-ylmethyl)-3-oxo-4H-1,4-benzoxazine-7-carboxamide,cid_paras is 36457099,Molecular_Weight is 312.32,XLogP3 is 1.5,Hydrogen_Bond_Donor_Count is 1',pos:'4.347826086907772e-06 4.347826086999486e-06 -4.347826086948802e-06';10.SMILES:'Cc1cc(NC(=O)c2cc(Cl)cc3cccnc23)n(C)n1',DES:'a heterocyclic compound with a central six-membered ring containing a nitrogen atom, surrounded by alkyl and cycloalkyl groups, and additional chlorine atoms and nitrogen atoms attache',pos:'nan';\n"
     ]
    }
   ],
   "source": [
    "import random\n",
    "min_value = 0\n",
    "max_value = len(smiles_list)\n",
    "list_random=[]\n",
    "for i in range(0,10):\n",
    "    num = random.randint(min_value, max_value)\n",
    "    list_random.append(num)\n",
    "\n",
    "print(list_random)\n",
    "combined_string = \"\"\n",
    "count=1\n",
    "for i in list_random:\n",
    "    print(i)\n",
    "    combined_string += str(count)+\".SMILES:\" + smiles_list[i] + \",DES:\" + des_list[i] + \",pos:\" + pos_list[i] + \";\"\n",
    "    count=count+1\n",
    "\n",
    "print(combined_string)\n",
    "\n",
    "\n",
    "from zhipuai import ZhipuAI\n",
    "import unicodedata\n",
    "client = ZhipuAI(api_key=\"your api key\") # 请填写您自己的APIKey\n",
    "response = client.chat.completions.create(\n",
    "    model=\"glm-4\",\n",
    "    messages=[\n",
    "        {\"role\": \"system\", \"content\": \"You are an expert chemist with a comprehensive understanding of molecular structures and chemistry. Given 10 molecular SMILES,description(Des), and central atomic coordinates(Pos), and  your task is to design one hundred new molecules(totally diffent with given molecules) using your experienced chemical Molecular Design knowledge. \\n\\\n",
    "Please strictly follow the format, no other information can be provided. You should only reply with one hundred SMILES \\\n",
    "string notations to represent the designed molecule. The SMILES must be valid and chemically reasonable and diffent with given molecule. \\n\"},\n",
    "    {\"role\": \"user\", \"content\": \"No.SMILES;Des;Pos\"+combined_string +\"###Output format:number,SMILES\\n\\###\" }\n",
    "    ],\n",
    "    top_p=0.7,\n",
    "    temperature=0.9,\n",
    "    stream=False,\n",
    "    max_tokens=2000,\n",
    ")\n",
    "\n",
    "message =response.choices[0].message.content\n",
    "content = unicodedata.normalize('NFKC', message)\n",
    "# print(content)\n",
    "import csv\n",
    "\n",
    "description = content\n",
    "\n",
    "out_file='result/tmp.csv'\n",
    "# out_file=out_file+str(n)+'.csv'\n",
    "with open(out_file, 'w', newline='') as file:\n",
    "    writer = csv.writer(file)\n",
    "    # writer.writerow(['Generation'])  # 写入列名\n",
    "    writer.writerow([description])    # 写入描述内容"
   ]
  },
  {
   "cell_type": "code",
   "execution_count": 2,
   "metadata": {},
   "outputs": [],
   "source": [
    "# import shutil\n",
    "def process_csv(input_filename, output_filename):\n",
    "    with open(input_filename, 'r', encoding='utf-8') as infile, open(output_filename, 'w', encoding='utf-8') as outfile:\n",
    "        lines = infile.readlines()\n",
    "\n",
    "        for i, line in enumerate(lines):\n",
    "            # 跳过空行\n",
    "            if not line.strip():\n",
    "                continue\n",
    "\n",
    "            # 以逗号分割行\n",
    "            parts = line.split('. ', 1)\n",
    "            if (len(parts) < 2):\n",
    "                outfile.write(parts[0])\n",
    "            else:\n",
    "                outfile.write(parts[1])\n",
    "\n",
    "    # shutil.move(output_filename, input_filename)\n",
    "\n",
    "\n",
    "process_csv('result/tmp.csv', 'result/processed.csv')"
   ]
  }
 ],
 "metadata": {
  "kernelspec": {
   "display_name": "llm",
   "language": "python",
   "name": "python3"
  },
  "language_info": {
   "codemirror_mode": {
    "name": "ipython",
    "version": 3
   },
   "file_extension": ".py",
   "mimetype": "text/x-python",
   "name": "python",
   "nbconvert_exporter": "python",
   "pygments_lexer": "ipython3",
   "version": "3.8.17"
  }
 },
 "nbformat": 4,
 "nbformat_minor": 2
}
