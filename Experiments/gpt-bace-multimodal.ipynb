{
 "cells": [
  {
   "cell_type": "code",
   "execution_count": null,
   "metadata": {},
   "outputs": [],
   "source": [
    "import unicodedata\n",
    "import csv\n",
    "import random\n",
    "from openai import OpenAI\n",
    "from sklearn.metrics import mean_absolute_error\n",
    "import numpy as np\n",
    "\n",
    "sample_num = 100\n",
    "example_num = 4\n",
    "content_truncate = 150"
   ]
  },
  {
   "cell_type": "code",
   "execution_count": null,
   "metadata": {},
   "outputs": [],
   "source": [
    "csv_name = 'bace.csv'\n",
    "data = []\n",
    "with open(csv_name, 'r') as file:\n",
    "    reader = csv.reader(file)\n",
    "    headers = next(reader)  \n",
    "    for row in reader:\n",
    "        data.append(tuple(row))\n",
    "data_set = set(data)\n",
    "\n",
    "data_sample = random.sample(data, sample_num)\n",
    "data_sample_set = set(data_sample)\n",
    "example_set = data_set - data_sample_set\n",
    "sample_example = random.sample(list(example_set), example_num * sample_num)\n",
    "\n",
    "sample_example = np.array(sample_example).reshape(sample_num, example_num, len(headers))\n",
    "\n",
    "print(data_sample)"
   ]
  },
  {
   "cell_type": "code",
   "execution_count": null,
   "metadata": {},
   "outputs": [],
   "source": [
    "\n",
    "\n",
    "# mol_id_index = headers.index('mol_id')\n",
    "# smiles_index = headers.index('smiles')\n",
    "# A_index = headers.index('A')\n",
    "# B_index = headers.index('B')\n",
    "# C_index = headers.index('C')\n",
    "# description_index = headers.index('Description')\n",
    "# mu_index = headers.index('mu')\n",
    "# alpha_index = headers.index('alpha')\n",
    "bace_index = headers.index('')\n",
    "\n",
    "contents = []\n",
    "bace_true = []\n",
    "for data_i in range(len(data_sample)):\n",
    "    data = data_sample[data_i]\n",
    "    content = \"You are an expert chemist with a comprehensive understanding of molecular structures and chemistry. Your task is to predict the property of molecule using your experienced chemical property prediction knowledge.\\nPlease strictly follow the format, no other information can be provided. Given the information of a molecule, predict the molecular properties of a given chemical compound based on its structure, by analyzing whether it can inhibit(Yes) the Beta-site Amyloid Precursor Protein Cleaving Enzyme 1 (BACE1) or cannot inhibit(No) BACE1. Consider factors such as molecular weight, atom count, bond types, and functional groups in order to assess the compound's drug-likeness and its potential to serve as an effective therapeutic agent for Alzheimer's disease,please answer with only Yes or No. \\n\"\n",
    "    content += \"Here are some examples:\\n\"\n",
    "    example = sample_example[data_i]\n",
    "\n",
    "    for example_i in range(example_num):\n",
    "        example_data = example[example_i]\n",
    "        content += \"Example \" + str(example_i + 1) + \":\\n\"\n",
    "        content += \"Molecule ID: \" + example_data[mol_id_index] + \"\\n\"\n",
    "        content += \"SMILES string: \" + example_data[smiles_index] + \"\\n\"\n",
    "        content += \"Coordinates: \" + example_data[A_index] + \", \" + example_data[B_index] + \", \" + example_data[C_index] + \"\\n\"\n",
    "        content += \"Description: \" + example_data[description_index][:content_truncate] + \".\\n\"\n",
    "        content += \"Dipole Moment (mu): \" + example_data[mu_index] + \"\\n\"\n",
    "        content += \"Isotropic Polarizability (alpha): \" + example_data[alpha_index] + \"\\n\\n\"\n",
    "    \n",
    "    content += \"Molecule ID: \" + data[mol_id_index] + \"\\n\"\n",
    "    content += \"SMILES string: \" + data[smiles_index] + \"\\n\"\n",
    "    content += \"Coordinates: \" + data[A_index] + \", \" + data[B_index] + \", \" + data[C_index] + \"\\n\"\n",
    "    content += \"Description: \" + data[description_index][:content_truncate] + \".\\n\\n\"\n",
    "    content += \"Provide your answer of the molecule with Yes or No and avoid any additional information.\"\n",
    "    contents.append(content)\n",
    "    bace_true.append(data[bace_index])\n",
    "\n",
    "print(contents[0])"
   ]
  },
  {
   "cell_type": "code",
   "execution_count": null,
   "metadata": {},
   "outputs": [],
   "source": [
    "client = OpenAI(\n",
    "    api_key=\"your api key\"\n",
    ")\n",
    "\n",
    "answer_contents = []\n",
    "for content in contents:\n",
    "    completion = client.chat.completions.create(\n",
    "        messages=[\n",
    "        {\"role\": \"system\", \"content\": \"You are an experienced chemist.\"},\n",
    "        {\"role\": \"user\", \"content\": content}\n",
    "        ],\n",
    "        model=\"gpt-3.5-turbo-1106\", #you can change models\n",
    "    )\n",
    "\n",
    "    message = completion.choices[0].message\n",
    "    message_content = unicodedata.normalize('NFKC', message.content)\n",
    "    print('message_content:', message_content)\n",
    "\n",
    "    answer_contents.append(message_content)"
   ]
  },
  {
   "cell_type": "code",
   "execution_count": null,
   "metadata": {},
   "outputs": [],
   "source": [
    "# evaluation"
   ]
  }
 ],
 "metadata": {
  "language_info": {
   "name": "python"
  }
 },
 "nbformat": 4,
 "nbformat_minor": 2
}
