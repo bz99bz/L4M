{
 "cells": [
  {
   "cell_type": "code",
   "execution_count": 1,
   "metadata": {},
   "outputs": [
    {
     "name": "stdout",
     "output_type": "stream",
     "text": [
      "data/moses_multimodal_enhance.csv\n",
      "940186\n"
     ]
    }
   ],
   "source": [
    "\n",
    "import pandas as pd\n",
    "csv_file = 'data/moses_multimodal_enhance.csv'\n",
    "\n",
    "print(csv_file)\n",
    "df = pd.read_csv(csv_file)\n",
    "\n",
    "# 获取 \"CID\" 列的值并转换为列表\n",
    "smiles_list = df['all_smiles'].tolist()\n",
    "des_list    = df['Description'].tolist()\n",
    "pos_list    = df['pos'].tolist()\n",
    "print(len(smiles_list))\n",
    "smiles_list = [f\"'{value}'\" for value in smiles_list]\n",
    "des_list    = [f\"'{value[16:200]}'\" for value in des_list]\n",
    "pos_list    = [f\"'{value}'\" for value in pos_list]"
   ]
  },
  {
   "cell_type": "code",
   "execution_count": null,
   "metadata": {},
   "outputs": [
    {
     "name": "stdout",
     "output_type": "stream",
     "text": [
      "[262386, 633493, 883583, 759770, 937681, 540181, 187534, 694579, 892790, 335713]\n",
      "262386\n",
      "633493\n",
      "883583\n",
      "759770\n",
      "937681\n",
      "540181\n",
      "187534\n",
      "694579\n",
      "892790\n",
      "335713\n",
      "1.SMILES:'O=c1c2ccccc2ncn1Cc1ccccc1OC(F)F';2.SMILES:'CCC(C)NC(=O)NCc1cnn(Cc2ccccc2)c1';3.SMILES:'CC(C)c1nc(CN2CCCN(CC(F)(F)F)CC2)no1';4.SMILES:'CCCC(=O)N1CCC(C(=O)OC)(c2ccccc2)CC1';5.SMILES:'Clc1ccccc1-c1nc(CN2CCc3cncnc3C2)cs1';6.SMILES:'Cc1occc1-c1nnc(CCC(=O)N(C)Cc2ccccc2)o1';7.SMILES:'Cc1nc2cc(NC(=O)C3CCN(C(=O)C(C)(C)C)CC3)ccc2o1';8.SMILES:'CNC(=O)C1CCC(NC(=O)NCc2cccs2)CC1';9.SMILES:'Cc1cc(Cn2c(=O)c3ccc(C(F)(F)F)nc3n(C)c2=O)no1';10.SMILES:'Cc1ccc(-n2ncc3c(N4CCCC4)ncnc32)cc1';\n"
     ]
    }
   ],
   "source": [
    "import random\n",
    "min_value = 0\n",
    "max_value = len(smiles_list)\n",
    "list_random=[]\n",
    "for i in range(0,10):\n",
    "    num = random.randint(min_value, max_value)\n",
    "    list_random.append(num)\n",
    "\n",
    "print(list_random)\n",
    "smiles_string = \"\"\n",
    "count=1\n",
    "for i in list_random:\n",
    "    print(i)\n",
    "    smiles_string += str(count)+\".SMILES:\" + smiles_list[i] + \";\"\n",
    "    count=count+1\n",
    "\n",
    "print(smiles_string)\n",
    "\n",
    "from zhipuai import ZhipuAI\n",
    "client = ZhipuAI(api_key=\"your api key\") # 请填写您自己的APIKey\n",
    "response = client.chat.completions.create(\n",
    "    model=\"glm-4\",\n",
    "    messages=[\n",
    "        {\"role\": \"system\", \"content\": \"You are an expert chemist with a comprehensive understanding of molecular structures and chemistry. Given 10 molecular SMILES, and  your task is to design one hundred new molecules(totally diffent with given molecules) using your experienced chemical Molecular Design knowledge. \\n\\\n",
    "Please strictly follow the format, no other information can be provided. You should only reply with one hundred SMILES \\\n",
    "string notations to represent the designed molecule. The SMILES must be valid and chemically reasonable and diffent with given molecule. \\n\"},\n",
    "    {\"role\": \"user\", \"content\": \"No.SMILES;\"+smiles_string +\"###Output format:number,SMILES\\n\\###\" }\n",
    "    ],\n",
    "    top_p=0.7,\n",
    "    temperature=0.9,\n",
    "    stream=False,\n",
    "    max_tokens=2000,\n",
    ")\n",
    "\n",
    "message =response.choices[0].message.content\n",
    "# content = unicodedata.normalize('NFKC', message.content)\n",
    "# print(message)\n",
    "import csv\n",
    "\n",
    "description = message\n",
    "\n",
    "out_file='result/tmp.csv'\n",
    "# out_file=out_file+str(n)+'.csv'\n",
    "with open(out_file, 'w', newline='') as file:\n",
    "    writer = csv.writer(file)\n",
    "    # writer.writerow(['Generation'])  # 写入列名\n",
    "    writer.writerow([description])    # 写入描述内容"
   ]
  },
  {
   "cell_type": "code",
   "execution_count": 55,
   "metadata": {},
   "outputs": [],
   "source": [
    "# import shutil\n",
    "def process_csv(input_filename, output_filename):\n",
    "    with open(input_filename, 'r', encoding='utf-8') as infile, open(output_filename, 'w', encoding='utf-8') as outfile:\n",
    "        lines = infile.readlines()\n",
    "        for i, line in enumerate(lines):\n",
    "            # 跳过空行\n",
    "            if not line.strip():\n",
    "                continue\n",
    "\n",
    "            # 以逗号分割行\n",
    "            parts = line.split('. ', 1)\n",
    "            if (len(parts) < 2):\n",
    "                outfile.write(parts[0])\n",
    "            else:\n",
    "                outfile.write(parts[1])\n",
    "\n",
    "    # shutil.move(output_filename, input_filename)\n",
    "\n",
    "\n",
    "process_csv(out_file, 'result/processed.csv')"
   ]
  }
 ],
 "metadata": {
  "kernelspec": {
   "display_name": "llm",
   "language": "python",
   "name": "python3"
  },
  "language_info": {
   "codemirror_mode": {
    "name": "ipython",
    "version": 3
   },
   "file_extension": ".py",
   "mimetype": "text/x-python",
   "name": "python",
   "nbconvert_exporter": "python",
   "pygments_lexer": "ipython3",
   "version": "3.8.17"
  }
 },
 "nbformat": 4,
 "nbformat_minor": 2
}
